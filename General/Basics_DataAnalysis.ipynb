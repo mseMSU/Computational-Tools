{
 "cells": [
  {
   "cell_type": "markdown",
   "metadata": {
    "editable": true,
    "slideshow": {
     "slide_type": ""
    },
    "tags": []
   },
   "source": [
    "# Data Analysis in Python with pandas"
   ]
  },
  {
   "cell_type": "markdown",
   "metadata": {},
   "source": [
    "[pandas](https://pandas.pydata.org/docs/getting_started/overview.html) is a Python package providing fast, flexible, and expressive data structures designed to make working with “relational” or “labeled” data both easy and intuitive.\n",
    "It aims to be the fundamental high-level building block for doing practical, real-world data analysis in Python.\n",
    "\n",
    "Therefore, it is the tool of choice in what follows.\n",
    "\n",
    "Let's start by importing this package (as well as the universally useful NumPy)."
   ]
  },
  {
   "cell_type": "code",
   "execution_count": null,
   "metadata": {},
   "outputs": [],
   "source": [
    "import pandas as pd\n",
    "import numpy as np"
   ]
  },
  {
   "cell_type": "markdown",
   "metadata": {},
   "source": [
    "## Content"
   ]
  },
  {
   "cell_type": "markdown",
   "metadata": {},
   "source": [
    "1. [Accessing data files](#Accessing-data-files)\n",
    "1. [Reading data files](#Reading-data-files)\n",
    "1. [How to do calculations](#How-to-do-calculations)\n",
    "1. [Data analysis](#Data-analysis)\n",
    "    1. [Basic statistics](#Basic-statistics)\n",
    "    1. [Smoothing](#Smoothing)\n",
    "    1. [Tangent to a curve](#Tangent-to-a-curve)\n"
   ]
  },
  {
   "cell_type": "markdown",
   "metadata": {},
   "source": [
    "## Accessing data files"
   ]
  },
  {
   "cell_type": "markdown",
   "metadata": {
    "editable": true,
    "slideshow": {
     "slide_type": ""
    },
    "tags": []
   },
   "source": [
    "How to access data files depends on whether they are stored locally, i.e. within the file system on the computer executing the Jupyter notebook, or remotely, i.e. hosted on another computer."
   ]
  },
  {
   "cell_type": "markdown",
   "metadata": {},
   "source": [
    "### Remotely hosted files\n",
    "\n",
    "Any file that has a uniform resource locator (URL) can be accessed through that.\n",
    "Examples are\n",
    "* `https://sample-videos.com/csv/Sample-Spreadsheet-100-rows.csv`\n",
    "* `https://drive.google.com/uc?id=1zO8ekHWx9U7mrbx_0Hoxxu6od7uxJqWw&export=download`\n"
   ]
  },
  {
   "cell_type": "markdown",
   "metadata": {},
   "source": [
    "### Locally stored files\n",
    "\n",
    "Any local file is accessible based on its path in the file system.\n",
    "Examples would be:\n",
    "* `test.csv` resides in the same folder as the executed notebook\n",
    "* `sub/dir/data.csv` is in the `sub/dir` relative to the notebook location\n",
    "* `../../prices.csv` is stored two directory levels above the notebook location\n",
    "* `/Users/joe/Documents/sample-data/chart.csv` is a specific file located at this absolute path"
   ]
  },
  {
   "cell_type": "markdown",
   "metadata": {},
   "source": [
    "## Reading data files"
   ]
  },
  {
   "cell_type": "markdown",
   "metadata": {},
   "source": [
    "For demonstration purposes, consider an exemplary output file of an Instron tensile testing frame.\n",
    "The file is called \"force-displacement.csv\", is stored in the \"Data\" folder next to the folder containing this notebook, and contains comma-separated data like this\n",
    "```\n",
    "Results Table 1\n",
    ",Specimen label,Width,Thickness,Length,Tensile strain (Displacement) at Break (Standard),Maximum Tensile stress\n",
    ",,(mm),(mm),(mm),(%),(MPa)\n",
    "\"1\",\"BrassS4_01\",\"12.73\",\"1.52\",\"78.49\",\"34.28\",\"427.03\"\n",
    "\n",
    "1,Time,Displacement,Force\n",
    ",(s),(mm),(N)\n",
    "\"\",\"0.0000\",\"0.0000\",\"39.3799\"\n",
    "\"\",\"0.1000\",\"0.0042\",\"43.7967\"\n",
    "\"\",\"0.2000\",\"0.0175\",\"45.0747\"\n",
    "...\n",
    "```\n",
    "\n"
   ]
  },
  {
   "cell_type": "markdown",
   "metadata": {},
   "source": [
    "pandas offers a convenient [`read_csv` function](https://pandas.pydata.org/docs/reference/api/pandas.read_csv.html) that is used to parse comma-separated values (csv files) into a data frame that we will call `df`.\n",
    "\n",
    "* Since the first seven lines of the \"force-displacement.csv\" file contain information that we do not want to keep, we use the `skiprows=7` option to skip them. (They would actually confuse the parser, which relies on the first line to estimate how the rest of the file looks like!)\n",
    "* Similarly, because the first column is always empty, we only `usecolumns=[1,2,3]`\n",
    "* Lastly, to specify our own (more meaningful) names for the columns of interest, we provide those with the `names=['Time/s','Displacement/mm','Force/N']` argument.\n"
   ]
  },
  {
   "cell_type": "code",
   "execution_count": null,
   "metadata": {
    "editable": true,
    "slideshow": {
     "slide_type": ""
    },
    "tags": []
   },
   "outputs": [],
   "source": [
    "df = pd.read_csv('../Data/force-displacement.csv',\n",
    "                 skiprows=7,\n",
    "                 usecols=[1,2,3],\n",
    "                 names=['Time/s','Displacement/mm','Force/N'],\n",
    "                )\n"
   ]
  },
  {
   "cell_type": "code",
   "execution_count": null,
   "metadata": {
    "editable": true,
    "slideshow": {
     "slide_type": ""
    },
    "tags": []
   },
   "outputs": [],
   "source": [
    "df.head(n=3)          # Display the first 5 rows of the data frame"
   ]
  },
  {
   "cell_type": "markdown",
   "metadata": {},
   "source": [
    "One can access values in the data frame by first selecting the column and (optionally) a range of rows.\n",
    "In the below example, we extract the time column for rows 10 to 20 (eleven rows in total).\n",
    "The pandas documentation provides a much more involved [explanation of how to access parts of data frames](https://pandas.pydata.org/docs/user_guide/indexing.html) in case you want to learn more."
   ]
  },
  {
   "cell_type": "code",
   "execution_count": null,
   "metadata": {},
   "outputs": [],
   "source": [
    "df['Time/s'][10:21]"
   ]
  },
  {
   "cell_type": "markdown",
   "metadata": {},
   "source": [
    "## Manipulating data"
   ]
  },
  {
   "cell_type": "markdown",
   "metadata": {},
   "source": [
    "### Definition of constants"
   ]
  },
  {
   "cell_type": "markdown",
   "metadata": {},
   "source": [
    "Any constants should be declared with a descriptive name. \n",
    "Using these names (in contrast to an explicit value) in any subsequent calculations is good practice because it makes the formulas general and easy to understand.\n",
    "Let's start by defining some named constants:"
   ]
  },
  {
   "cell_type": "code",
   "execution_count": null,
   "metadata": {
    "editable": true,
    "slideshow": {
     "slide_type": ""
    },
    "tags": []
   },
   "outputs": [],
   "source": [
    "width = 12.73\n",
    "thickness = 1.52\n",
    "length = 78.49\n",
    "\n",
    "inch_to_mm = 25.4"
   ]
  },
  {
   "cell_type": "markdown",
   "metadata": {},
   "source": [
    "### Definition of functions"
   ]
  },
  {
   "cell_type": "markdown",
   "metadata": {},
   "source": [
    "Similarly, explicitly defining (more complex) functions that one wants to apply to data is good practice compared to writing an inline evaluation."
   ]
  },
  {
   "cell_type": "code",
   "execution_count": null,
   "metadata": {},
   "outputs": [],
   "source": [
    "def LinearMap(x,a=0.0,b=1.0):\n",
    "    return a+b*x"
   ]
  },
  {
   "cell_type": "markdown",
   "metadata": {},
   "source": [
    "### Adding and deleting columns"
   ]
  },
  {
   "cell_type": "markdown",
   "metadata": {},
   "source": [
    "Columns are added to a data frame by specifying the data that goes into it.\n",
    "This can be a constant scalar, a given list of numbers (of the correct length), or the result of a calculation involving other columns."
   ]
  },
  {
   "cell_type": "code",
   "execution_count": null,
   "metadata": {},
   "outputs": [],
   "source": [
    "df['zero'] = 0.0\n",
    "df['range'] = np.arange(len(df))\n",
    "df['prod'] = df['Time/s'] * df['Force/N']"
   ]
  },
  {
   "cell_type": "code",
   "execution_count": null,
   "metadata": {},
   "outputs": [],
   "source": [
    "df.head()"
   ]
  },
  {
   "cell_type": "markdown",
   "metadata": {},
   "source": [
    "Columns can be deleted by dropping them from the data frame either in-place, or by returning a copy without the dropped columns."
   ]
  },
  {
   "cell_type": "code",
   "execution_count": null,
   "metadata": {},
   "outputs": [],
   "source": [
    "df.drop(columns=['zero','range','prod'],\n",
    "        inplace=True)"
   ]
  },
  {
   "cell_type": "code",
   "execution_count": null,
   "metadata": {},
   "outputs": [],
   "source": [
    "df.head()"
   ]
  },
  {
   "cell_type": "markdown",
   "metadata": {},
   "source": [
    "### Example: unit conversions"
   ]
  },
  {
   "cell_type": "markdown",
   "metadata": {},
   "source": [
    "Suppose you need to perform a unit conversion of `Displacement/mm` from mm to inch and `Force/N` from N to kN.\n",
    "The results are stored as two new columns in the existing data frame `df`."
   ]
  },
  {
   "cell_type": "code",
   "execution_count": null,
   "metadata": {},
   "outputs": [],
   "source": [
    "df['Displacement/in'] = df['Displacement/mm'] / inch_to_mm     # Converting displacements from mm to inch\n",
    "df['Force/kN'] = df['Force/N'] * 1e-3                          # Converting forces from N to kN"
   ]
  },
  {
   "cell_type": "code",
   "execution_count": null,
   "metadata": {},
   "outputs": [],
   "source": [
    "df.head(n=3)"
   ]
  },
  {
   "cell_type": "markdown",
   "metadata": {},
   "source": [
    "The same transformation can be achieved by applying the `LinearMap` function with suitable parameters `a` and `b`."
   ]
  },
  {
   "cell_type": "code",
   "execution_count": null,
   "metadata": {},
   "outputs": [],
   "source": [
    "df['apply:Displacement/in'] = df['Displacement/mm'].apply(LinearMap,args=(0,1/inch_to_mm))     # Converting displacements from mm to inch\n",
    "df['apply:Force/kN'] = df['Force/N'].apply(LinearMap,args=(0,1e-3))                            # Converting forces from N to kN"
   ]
  },
  {
   "cell_type": "code",
   "execution_count": null,
   "metadata": {},
   "outputs": [],
   "source": [
    "df.head(n=3)"
   ]
  },
  {
   "cell_type": "markdown",
   "metadata": {},
   "source": [
    "## Data analysis"
   ]
  },
  {
   "cell_type": "markdown",
   "metadata": {
    "editable": true,
    "slideshow": {
     "slide_type": ""
    },
    "tags": []
   },
   "source": [
    "### Basic statistics"
   ]
  },
  {
   "cell_type": "markdown",
   "metadata": {},
   "source": [
    "A `pandas` \"Series\", i.e. a column of a data frame such as `df['Force/kN']`, offers multiple methods to extract basic statistical information.\n",
    "A few useful ones are: \n",
    "\n",
    "* `Series.max()` to find the maximum\n",
    "* `Series.min()` to find the minimum\n",
    "* `Series.mean()` to calculate the mean (average)\n",
    "* `Series.median()` to calculate the median\n",
    "* `Series.mode()` to calculate the most frequent value(s)\n",
    "* `Series.std()` to calculate the standard deviation "
   ]
  },
  {
   "cell_type": "code",
   "execution_count": null,
   "metadata": {},
   "outputs": [],
   "source": [
    "print(f\"\"\"\n",
    "Maximum displacement: {df['Displacement/mm'].max()} mm\n",
    "Maximum force: {df['Force/kN'].max()} kN\n",
    "Average force: {df['Force/kN'].mean()} kN\n",
    "\"\"\")"
   ]
  },
  {
   "cell_type": "markdown",
   "metadata": {},
   "source": [
    "### Smoothing"
   ]
  },
  {
   "cell_type": "markdown",
   "metadata": {},
   "source": [
    "In cases where the data is too noisy to be useful, it can be helpful to smooth it.\n",
    "\n",
    "Please note that smoothing is different from curve fitting.\n",
    "Curve fitting adjusts the parameters of a given function until it best fits the observed values as closely as possible based on statistical criteria and can be used to extrapolate outside of the data interval.\n",
    "Smoothing, on the other hand, only reduces the weight of outlying points and makes the trends in the data more obvious, with very limmited possibilities for extrapolation.\n",
    "\n",
    "One possibility for smoothing a data series demonstrated here is to use the [Savitzky–Golay filter](https://docs.scipy.org/doc/scipy-1.14.0/reference/generated/scipy.signal.savgol_filter.html) from the `scipy.signal` module."
   ]
  },
  {
   "cell_type": "code",
   "execution_count": null,
   "metadata": {},
   "outputs": [],
   "source": [
    "import seaborn as sns\n",
    "from matplotlib import pyplot as plt\n",
    "from scipy.signal import savgol_filter\n",
    "\n",
    "\n",
    "df['Smooth Force/kN'] = savgol_filter(x=df['Force/kN'],\n",
    "                                      window_length=101, # larger window results in greater smoothing\n",
    "                                      polyorder=2,\n",
    "                                     )\n",
    "\n",
    "fig,ax = plt.subplots()\n",
    "sns.lineplot(data=df,\n",
    "             x='Displacement/mm',\n",
    "             y='Force/kN',\n",
    "             color='blue',\n",
    "             ax=ax,\n",
    "               )\n",
    "sns.lineplot(data=df,\n",
    "             x='Displacement/mm',\n",
    "             y='Smooth Force/kN',\n",
    "             color='orange',\n",
    "             ax=ax,\n",
    "            )\n",
    "_ = plt.show()"
   ]
  }
 ],
 "metadata": {
  "kernelspec": {
   "display_name": "Python 3 (ipykernel)",
   "language": "python",
   "name": "python3"
  },
  "language_info": {
   "codemirror_mode": {
    "name": "ipython",
    "version": 3
   },
   "file_extension": ".py",
   "mimetype": "text/x-python",
   "name": "python",
   "nbconvert_exporter": "python",
   "pygments_lexer": "ipython3",
   "version": "3.12.5"
  }
 },
 "nbformat": 4,
 "nbformat_minor": 4
}
